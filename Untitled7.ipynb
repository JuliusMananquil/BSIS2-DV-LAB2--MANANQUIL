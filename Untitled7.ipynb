{
  "nbformat": 4,
  "nbformat_minor": 0,
  "metadata": {
    "colab": {
      "provenance": [],
      "authorship_tag": "ABX9TyOHV/dwqnHMpUdfsvUoHPc8",
      "include_colab_link": true
    },
    "kernelspec": {
      "name": "python3",
      "display_name": "Python 3"
    },
    "language_info": {
      "name": "python"
    }
  },
  "cells": [
    {
      "cell_type": "markdown",
      "metadata": {
        "id": "view-in-github",
        "colab_type": "text"
      },
      "source": [
        "<a href=\"https://colab.research.google.com/github/JuliusMananquil/BSIS2-DV-LAB2--MANANQUIL/blob/main/Untitled7.ipynb\" target=\"_parent\"><img src=\"https://colab.research.google.com/assets/colab-badge.svg\" alt=\"Open In Colab\"/></a>"
      ]
    },
    {
      "cell_type": "code",
      "execution_count": 21,
      "metadata": {
        "colab": {
          "base_uri": "https://localhost:8080/"
        },
        "id": "O4rLbRfrc-4b",
        "outputId": "c17a133f-0003-4c86-d3e3-7e971ac44df9"
      },
      "outputs": [
        {
          "output_type": "stream",
          "name": "stdout",
          "text": [
            "Enter the first number:\n",
            "12\n",
            "Enter the second number:\n",
            "25.7\n",
            "Sum: 12.0 + 25.7 = 37.7\n",
            "Difference: 12.0 - 25.7 = -13.7\n",
            "Product: 12.0 * 25.7 = 308.4\n",
            "Quotient: 12.0 / 25.7 = 0.4669260700389105\n",
            "Power: 12.0 ^ 25.7 = 5.43197826365636e+27\n",
            "Division with remainder: 12.0 / 25.7 = 0.0\n",
            "Remainder: 12.0\n"
          ]
        }
      ],
      "source": [
        "print('Enter the first number:')\n",
        "x = float(input())\n",
        "print('Enter the second number:')\n",
        "y = float(input())\n",
        "\n",
        "sumxy = (x) + (y)\n",
        "diffxy = (x) - (y)\n",
        "prodxy = (x) * (y)\n",
        "quoxy = (x) / (y)\n",
        "expoxy = (x) ** (y)\n",
        "divxy = (x) // (y)\n",
        "remaxy = (x) % (y)\n",
        "\n",
        "print('Sum:', x, '+', y, '=', sumxy)\n",
        "print('Difference:', x, '-', y, '=', diffxy)\n",
        "print('Product:', x, '*', y, '=', prodxy)\n",
        "print('Quotient:', x, '/', y, '=', quoxy)\n",
        "print('Power:', x, '^', y, '=', expoxy)\n",
        "print('Division with remainder:', x, '/', y, '=', divxy)\n",
        "print('Remainder:', remaxy)"
      ]
    }
  ]
}